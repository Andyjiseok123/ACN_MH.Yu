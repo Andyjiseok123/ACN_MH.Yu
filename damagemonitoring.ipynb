{
 "cells": [
  {
   "cell_type": "code",
   "execution_count": 94,
   "metadata": {
    "scrolled": true
   },
   "outputs": [
    {
     "name": "stdout",
     "output_type": "stream",
     "text": [
      "0 2.8763726\n",
      "1000 0.5652843\n",
      "2000 0.33677787\n",
      "3000 0.31670395\n",
      "4000 0.31538078\n",
      "\n",
      "Hypothesis:\n",
      "[[0.         0.3683282  0.41579872 ... 0.         0.39517415 0.        ]\n",
      " [0.         0.37025142 0.40268454 ... 0.         0.39122662 0.        ]\n",
      " [0.         0.37031555 0.40269145 ... 0.         0.39122424 0.        ]\n",
      " ...\n",
      " [0.         0.36849785 0.41484606 ... 0.         0.39500487 0.        ]\n",
      " [0.         0.36349952 0.5079309  ... 0.         0.39405495 0.        ]\n",
      " [0.         0.4022349  0.40293005 ... 0.         0.36498752 0.        ]] \n",
      "Predicted:\n",
      "[[0. 0. 0. ... 0. 0. 0.]\n",
      " [0. 0. 0. ... 0. 0. 0.]\n",
      " [0. 0. 0. ... 0. 0. 0.]\n",
      " ...\n",
      " [0. 0. 0. ... 0. 0. 0.]\n",
      " [0. 0. 1. ... 0. 0. 0.]\n",
      " [0. 0. 0. ... 0. 0. 0.]] \n",
      "Accuracy:\n",
      "0.6085119843482971\n"
     ]
    },
    {
     "data": {
      "image/png": "[encoded data removed]",
      "text/plain": [
       "<Figure size 432x288 with 1 Axes>"
      ]
     },
     "metadata": {
      "needs_background": "light"
     },
     "output_type": "display_data"
    }
   ],
   "source": [
    "import numpy as np\n",
    "import pandas as pd\n",
    "import openpyxl as op\n",
    "import tensorflow.compat.v1 as tf\n",
    "tf.disable_v2_behavior()\n",
    "\n",
    "normalize=0.01\n",
    "path_file = 'ACN.csv'\n",
    "xy=np.loadtxt('ACN.csv', delimiter=',', dtype=np.float32)\n",
    "\n",
    "x_data=xy[:,25:]\n",
    "y_data=xy[:,:25]\n",
    "\n",
    "\n",
    "X=tf.placeholder(tf.float32, shape=[None,25])\n",
    "Y=tf.placeholder(tf.float32, shape=[None,25])\n",
    "\n",
    "keep_prob = tf.placeholder(tf.float32)\n",
    "\n",
    "testcsv=np.loadtxt('test.csv', delimiter=',', dtype=np.float32)\n",
    "test=testcsv[:,:25]\n",
    "\n",
    "\n",
    "w1=tf.Variable(tf.random_normal([25,25]), name='weight1')\n",
    "b1=tf.Variable(tf.random_normal([25]), name='bias1')\n",
    "layer1 = tf.nn.relu(tf.matmul(X, w1) + b1)\n",
    "layer1 = tf.nn.dropout(layer1, keep_prob=keep_prob)\n",
    "\n",
    "w2=tf.Variable(tf.random_normal([25,25]), name='weight2')\n",
    "b2=tf.Variable(tf.random_normal([25]), name='bias2')\n",
    "layer2 = tf.nn.relu(tf.matmul(layer1, w2) + b2)\n",
    "layer2 = tf.nn.dropout(layer2, keep_prob=keep_prob)\n",
    "\n",
    "w3=tf.Variable(tf.random_normal([25,25]), name='weight2')\n",
    "b3=tf.Variable(tf.random_normal([25]), name='bias2')\n",
    "hypothesis= tf.nn.relu(tf.matmul(layer2, w3) + b3)\n",
    "layer3 = tf.nn.dropout(layer3, keep_prob=keep_prob)\n",
    "\n",
    "w4=tf.Variable(tf.random_normal([25,25]), name='weight2')\n",
    "b4=tf.Variable(tf.random_normal([25]), name='bias2')\n",
    "layer4 = tf.nn.relu(tf.matmul(layer3, w4) + b4)\n",
    "layer4 = tf.nn.dropout(layer4, keep_prob=keep_prob)\n",
    "\n",
    "w5=tf.Variable(tf.random_normal([25,25]), name='weight2')\n",
    "b5=tf.Variable(tf.random_normal([25]), name='bias2')\n",
    "hypothesis = tf.nn.relu(tf.matmul(layer4, w5) + b5)\n",
    "\n",
    "\n",
    "cost = tf.reduce_mean(tf.square(hypothesis - Y))\n",
    "train = tf.train.AdamOptimizer(learning_rate=0.0001).minimize(cost)\n",
    "\n",
    "predicted = tf.cast(hypothesis > 0.5, dtype=tf.float32)\n",
    "accuracy = tf.reduce_mean(tf.cast(tf.equal(predicted, Y), dtype=tf.float32))\n",
    "\n",
    "\n",
    "with tf.Session() as sess:\n",
    "    # Initialize TensorFlow variables\n",
    "    sess.run(tf.global_variables_initializer())\n",
    "    \n",
    "\n",
    "\n",
    "    for step in range(20001):\n",
    "        _, cost_val = sess.run([train, cost], feed_dict={X: x_data, Y: y_data, keep_prob: 0.7})\n",
    "        if step % 1000 == 0:\n",
    "            print(step, cost_val)\n",
    "            \n",
    "\n",
    "    # Accuracy report\n",
    "    h, p, a = sess.run(\n",
    "        [hypothesis, predicted, accuracy], feed_dict={X: x_data, Y: y_data, keep_prob:0.7}\n",
    "    )\n",
    "    \n",
    "    print(f\"\\nHypothesis:\\n{h} \\nPredicted:\\n{p} \\nAccuracy:\\n{a}\")\n",
    "\n",
    "    f=open('damage.csv','w',newline = '')\n",
    "    wr=csv.writer(f)\n",
    "    wr.writerows(sess.run(hypothesis,predicted,feed_dict={X: x_data, Y: y_data, keep_prob:0.7}))\n",
    "    f.close()\n"
   ]
  },
  {
   "cell_type": "code",
   "execution_count": null,
   "metadata": {},
   "outputs": [],
   "source": []
  }
 ],
 "metadata": {
  "kernelspec": {
   "display_name": "Python 3 (ipykernel)",
   "language": "python",
   "name": "python3"
  },
  "language_info": {
   "codemirror_mode": {
    "name": "ipython",
    "version": 3
   },
   "file_extension": ".py",
   "mimetype": "text/x-python",
   "name": "python",
   "nbconvert_exporter": "python",
   "pygments_lexer": "ipython3",
   "version": "3.7.11"
  }
 },
 "nbformat": 4,
 "nbformat_minor": 2
}
